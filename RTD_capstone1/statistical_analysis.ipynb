{
 "cells": [
  {
   "cell_type": "code",
   "execution_count": 1,
   "metadata": {},
   "outputs": [],
   "source": [
    "# Import packages.\n",
    "import pandas as pd\n",
    "import numpy as np\n",
    "import matplotlib.pyplot as plt\n",
    "import seaborn as sns; sns.set()\n",
    "from datetime import datetime, timezone, timedelta\n",
    "from dateutil.relativedelta import relativedelta\n",
    "import scipy.stats as stats\n",
    "import matplotlib.pylab as pylab\n",
    "import glob\n",
    "import os\n",
    "from numpy.random import seed\n",
    "from scipy.stats import gamma\n",
    "import pymc3 as pm"
   ]
  },
  {
   "cell_type": "code",
   "execution_count": 2,
   "metadata": {},
   "outputs": [
    {
     "name": "stderr",
     "output_type": "stream",
     "text": [
      "C:\\Users\\jsummer\\AppData\\Local\\Continuum\\anaconda3\\lib\\site-packages\\IPython\\core\\interactiveshell.py:3051: DtypeWarning: Columns (49,50,51,52,53,54,55,56,57,75) have mixed types. Specify dtype option on import or set low_memory=False.\n",
      "  interactivity=interactivity, compiler=compiler, result=result)\n",
      "C:\\Users\\jsummer\\AppData\\Local\\Continuum\\anaconda3\\lib\\site-packages\\numpy\\lib\\arraysetops.py:569: FutureWarning: elementwise comparison failed; returning scalar instead, but in the future will perform elementwise comparison\n",
      "  mask |= (ar1 == a)\n"
     ]
    },
    {
     "name": "stdout",
     "output_type": "stream",
     "text": [
      "<class 'pandas.core.frame.DataFrame'>\n",
      "Int64Index: 1843234 entries, 0 to 1843233\n",
      "Data columns (total 103 columns):\n",
      "SERIAL_NUMBER                           1843234 non-null int64\n",
      "SCHEDULE_NAME                           1843234 non-null object\n",
      "SIGNUP_NAME                             1843234 non-null object\n",
      "SURVEY_SOURCE                           1843234 non-null int64\n",
      "PATTERN_ID                              1843234 non-null int64\n",
      "BRANCH                                  1843234 non-null object\n",
      "ROUTE_NUMBER                            1843234 non-null int64\n",
      "ROUTE_NAME                              1843234 non-null object\n",
      "DIRECTION_NAME                          1843234 non-null object\n",
      "SERVICE_TYPE                            1843234 non-null object\n",
      "SERVICE_MODE                            1841366 non-null object\n",
      "SURVEY_DATE_EFFECTIVE                   1843234 non-null datetime64[ns]\n",
      "SURVEY_DATE_ATYPICAL                    1843234 non-null int64\n",
      "TIME_PERIOD                             1843234 non-null object\n",
      "SERVICE_DAY                             1843234 non-null int64\n",
      "SERVICE_PERIOD                          1843234 non-null object\n",
      "TRIP_KEY                                1843234 non-null int64\n",
      "BLOCK_NUMBER                            1843234 non-null int64\n",
      "VEHICLE_NUMBER                          1717395 non-null float64\n",
      "GARAGE_NAME                             1843234 non-null object\n",
      "DIVISION_NAME                           1843234 non-null object\n",
      "SORT_ORDER                              1843234 non-null int64\n",
      "STOP_ID                                 1843234 non-null int64\n",
      "MAIN_CROSS_STREET                       1843234 non-null object\n",
      "TIMEPOINT                               1843234 non-null int64\n",
      "CITY                                    1843234 non-null object\n",
      "COUNTY                                  1150844 non-null object\n",
      "TIME_SCHEDULED                          1843234 non-null datetime64[ns]\n",
      "DWELL_TIME                              50247 non-null float64\n",
      "TRIP_DIFF_MINUTES                       1843234 non-null float64\n",
      "FREE_RUNNING                            1684280 non-null float64\n",
      "EVENT_COUNT                             1843234 non-null int64\n",
      "APC_COUNT                               1843234 non-null int64\n",
      "EARLY                                   1843234 non-null int64\n",
      "ON_TIME                                 1843234 non-null int64\n",
      "LATE                                    1843234 non-null int64\n",
      "RECORD_ID                               1843234 non-null int64\n",
      "STOPABBR                                1651451 non-null float64\n",
      "STOPNAME                                1843234 non-null object\n",
      "LATITUDE                                1651451 non-null float64\n",
      "LONGITUDE                               1651451 non-null float64\n",
      "SCHEDULED_DAY                           1843234 non-null object\n",
      "ARRIVAL_TIME                            1843234 non-null object\n",
      "DEPART_TIME                             1843234 non-null object\n",
      "ARRIVAL                                 1843234 non-null datetime64[ns]\n",
      "DEPARTURE                               1843234 non-null datetime64[ns]\n",
      "TIME_TO_SCH_DEPART                      1843234 non-null float64\n",
      "LOOKUP_COUNTY                           1843234 non-null object\n",
      "Broncos_Date                            10018 non-null object\n",
      "Broncos_Time                            10018 non-null object\n",
      "Nuggets_Date                            211163 non-null object\n",
      "Nuggets_Time                            211163 non-null object\n",
      "Avs_Date                                181682 non-null object\n",
      "Avs_Time                                181682 non-null object\n",
      "Rox_Date                                500085 non-null object\n",
      "Rox_Time_1                              500085 non-null object\n",
      "Rox_Time_2                              500085 non-null object\n",
      "WAIT_TIME_CALC                          1843234 non-null float64\n",
      "DEPARTURE_DELAY                         1843234 non-null float64\n",
      "DELAYED_FLG                             1843234 non-null int64\n",
      "END_OF_LINE                             1843234 non-null int64\n",
      "BRONCOS_TIME                            10018 non-null datetime64[ns]\n",
      "Wind Direction                          1786175 non-null float64\n",
      "Cloud Cover                             1637208 non-null float64\n",
      "Minimum Temperature                     1840962 non-null float64\n",
      "Precipitation                           17407 non-null float64\n",
      "Dew Point                               1840269 non-null float64\n",
      "Relative Humidity                       1840992 non-null float64\n",
      "Precipitation Cover                     84630 non-null float64\n",
      "Temperature                             1840962 non-null float64\n",
      "Maximum Temperature                     1840962 non-null float64\n",
      "Visibility                              1840567 non-null float64\n",
      "Wind Speed                              1797499 non-null float64\n",
      "Heat Index                              239959 non-null float64\n",
      "Weather Type                            227735 non-null object\n",
      "Snow Depth                              15501 non-null float64\n",
      "Sea Level Pressure                      1736840 non-null float64\n",
      "Wind Gust                               144205 non-null float64\n",
      "Wind Chill                              647330 non-null float64\n",
      "Date                                    1843230 non-null datetime64[ns]\n",
      "Rain                                    1843234 non-null int64\n",
      "Smoke Or Haze                           1843234 non-null int64\n",
      "Light Freezing Drizzle/Freezing Rain    1843234 non-null int64\n",
      "Lightning Without Thunder               1843234 non-null int64\n",
      "Light Snow                              1843234 non-null int64\n",
      "Thunderstorm                            1843234 non-null int64\n",
      "Light Rain And Snow                     1843234 non-null int64\n",
      "Light Rain                              1843234 non-null int64\n",
      "Snow                                    1843234 non-null int64\n",
      "Ice                                     1843234 non-null int64\n",
      "Heavy Snow                              1843234 non-null int64\n",
      "Heavy Rain                              1843234 non-null int64\n",
      "Light Drizzle                           1843234 non-null int64\n",
      "Mist                                    1843234 non-null int64\n",
      "Blowing Or Drifting Snow                1843234 non-null int64\n",
      "Fog                                     1843234 non-null int64\n",
      "Freezing Drizzle/Freezing Rain          1843234 non-null int64\n",
      "Heavy Drizzle                           1843234 non-null int64\n",
      "Light Freezing Rain                     1843234 non-null int64\n",
      "Hail Showers                            1843234 non-null int64\n",
      "Rain Showers                            1843234 non-null int64\n",
      "Drizzle                                 1843234 non-null int64\n",
      "no_weather_type                         1843234 non-null int64\n",
      "dtypes: datetime64[ns](6), float64(26), int64(42), object(29)\n",
      "memory usage: 1.4+ GB\n"
     ]
    }
   ],
   "source": [
    "# Prior notebook ends with a csv save of train_master dataset.\n",
    "train_csv = \"../train_master.csv\"\n",
    "dates = ['TIME_SCHEDULED',\n",
    "         'ARRIVAL',\n",
    "         'DEPARTURE',\n",
    "         'Date',\n",
    "         'SURVEY_DATE_EFFECTIVE',\n",
    "         'BRONCOS_TIME']\n",
    "trains = pd.read_csv(train_csv,\n",
    "                    header=0,\n",
    "                     sep=',',\n",
    "                     index_col=0,\n",
    "                     infer_datetime_format=True,\n",
    "                     parse_dates=dates)\n",
    "trains.info(verbose=True, null_counts=True)"
   ]
  },
  {
   "cell_type": "markdown",
   "metadata": {},
   "source": [
    "# Evaluate Difference of Mean Delays between 'Good Weather' and \"Bad Weather\""
   ]
  },
  {
   "cell_type": "code",
   "execution_count": 3,
   "metadata": {},
   "outputs": [],
   "source": [
    "# Define good weather as departures wherein Snow and Hail/Ice were not present.\n",
    "snow_ice_delays = trains['DEPARTURE_DELAY'].loc[(trains['Light Freezing Drizzle/Freezing Rain']==1) | \n",
    "                                                    (trains['Light Snow']==1) | \n",
    "                                                    (trains['Snow'] == 1) |\n",
    "                                                    (trains['Heavy Snow'] == 1) |\n",
    "                                                    (trains['Blowing Or Drifting Snow']==1) |\n",
    "                                                    (trains['Freezing Drizzle/Freezing Rain']==1) | \n",
    "                                                    (trains['Light Freezing Rain']==1) | \n",
    "                                                    (trains['Hail Showers'] == 1)]\n",
    "good_weather_delays = trains['DEPARTURE_DELAY'].loc[(trains['Light Freezing Drizzle/Freezing Rain']==0) &\n",
    "                                                    (trains['Light Snow']==0) & \n",
    "                                                    (trains['Snow'] == 0) &\n",
    "                                                    (trains['Heavy Snow'] == 0) &\n",
    "                                                    (trains['Blowing Or Drifting Snow'] ==0) &\n",
    "                                                    (trains['Freezing Drizzle/Freezing Rain'] ==0) & \n",
    "                                                    (trains['Light Freezing Rain'] ==0) & \n",
    "                                                    (trains['Hail Showers'] == 0)]"
   ]
  },
  {
   "cell_type": "code",
   "execution_count": 4,
   "metadata": {},
   "outputs": [],
   "source": [
    "def bootstrap_replicate(data, func,size=1):\n",
    "    \"\"\"Draw bootstrap samples of equal length of data and create a distribution of bootstrap mean replicates.\"\"\"\n",
    "    bs_replicates = np.empty(size)\n",
    "    for i in range(size):\n",
    "        bs_replicates[i] = func(np.random.choice(data,size=len(data)))\n",
    "    return bs_replicates"
   ]
  },
  {
   "cell_type": "code",
   "execution_count": 6,
   "metadata": {},
   "outputs": [],
   "source": [
    "# Create mean bootstrap replicates of each subsection of delays.\n",
    "np.random.seed(13)\n",
    "good_weather_replicates = bootstrap_replicate(good_weather_delays,np.mean,50000)\n",
    "snow_ice_replicates = bootstrap_replicate(snow_ice_delays,np.mean,50000)"
   ]
  },
  {
   "cell_type": "code",
   "execution_count": 7,
   "metadata": {},
   "outputs": [
    {
     "name": "stdout",
     "output_type": "stream",
     "text": [
      "95% Confidence Interval: [35.82728009 39.10296803]\n"
     ]
    }
   ],
   "source": [
    "# Gather a bootstrapped difference of means and its resulting confidence interval\n",
    "diff_of_means = snow_ice_replicates - good_weather_replicates\n",
    "CI = np.percentile(diff_of_means,[2.5,97.5])\n",
    "print(\"95% Confidence Interval: \"+str(CI))"
   ]
  },
  {
   "cell_type": "code",
   "execution_count": 10,
   "metadata": {},
   "outputs": [
    {
     "data": {
      "image/png": "[encoded data removed]",
      "text/plain": [
       "<Figure size 432x288 with 1 Axes>"
      ]
     },
     "metadata": {},
     "output_type": "display_data"
    }
   ],
   "source": [
    "# Plot the difference of bootstrapped means with a 95% confidence interval.\n",
    "_ = plt.hist(diff_of_means, density=True, bins=30,color='teal')\n",
    "_ = plt.title('Difference of Mean Delays by Good Weather and Snow/Ice')\n",
    "_ = plt.xlabel('Difference in Weather Delay Mean')\n",
    "_ = plt.ylabel('Proportion')\n",
    "_ = plt.axvline(x=CI[0], c='orange', linestyle='--')\n",
    "_ = plt.axvline(x=CI[1], c='orange', linestyle='--')\n",
    "plt.show()"
   ]
  },
  {
   "cell_type": "markdown",
   "metadata": {},
   "source": [
    "Since the 95% confidence interval does not near 0, snow/icy departures are delayed more than non-snowy/icy days."
   ]
  },
  {
   "cell_type": "markdown",
   "metadata": {},
   "source": [
    "# Compare Southbound train delays with other other directions"
   ]
  },
  {
   "cell_type": "code",
   "execution_count": null,
   "metadata": {},
   "outputs": [],
   "source": [
    "def permutation_samples(data1, data2):\n",
    "    \"\"\"Generate 2 permutated samples from 2 provided arrays.\"\"\"\n",
    "    \n",
    "    # Concatenate datasets\n",
    "    combined = np.concatenate((data1, data2))\n",
    "    # Permute combined dataset\n",
    "    permuted_combined = np.random.permutation(combined)\n",
    "    # Create 2 randomized samples for comparison\n",
    "    perm_1 = permuted_combined[:len(data1)]\n",
    "    perm_2 = permuted_combined[len(data1):]\n",
    "    \n",
    "    return perm_1, perm_2\n",
    "\n",
    "def permutation_replicates(data1, data2, func, size=1):\n",
    "    \"\"\"Generate permutated replicates\"\"\"\n",
    "    \n",
    "    # Create empty array for replicate values\n",
    "    replicates = np.empty(size)\n",
    "    \n",
    "    for i in range(size):\n",
    "        # Generate permutation samples using permutation_samples function\n",
    "        sample_1, sample_2 = permutation_samples(data1, data2)\n",
    "        \n",
    "        # Compute replicates using provided func\n",
    "        replicates[i] = func(sample_1, sample_2)\n",
    "    \n",
    "    return replicates\n",
    "\n",
    "def diff_of_means(data1, data2):\n",
    "    \"\"\"Generate difference in function of 2 arrays.\"\"\"\n",
    "    \n",
    "    diff = np.mean(data1) - np.mean(data2)\n",
    "    return diff"
   ]
  },
  {
   "cell_type": "code",
   "execution_count": null,
   "metadata": {},
   "outputs": [],
   "source": [
    "# Create array of delays for southbound and non-southbound trains\n",
    "south = trains['DEPARTURE_DELAY'].loc[trains.DIRECTION_NAME == 'south']\n",
    "other_directions = trains['DEPARTURE_DELAY'].loc[trains.DIRECTION_NAME != 'south']\n",
    "\n",
    "# Create bootstrap replicates of differences of means\n",
    "bs_diff = permutation_replicates(south, other_directions,diff_of_means,size=10000)\n",
    "emp_diff = diff_of_means(south,other_directions)\n",
    "\n",
    "p_value = np.sum(bs_diff >= emp_diff)/len(bs_diff)\n",
    "\n",
    "print(p_value)"
   ]
  },
  {
   "cell_type": "markdown",
   "metadata": {},
   "source": [
    "P-value of 0 indicates that a null hypothesis of southbound trains have equal average delays to other directions should be rejected and alternative hypothesis accepted."
   ]
  },
  {
   "cell_type": "markdown",
   "metadata": {},
   "source": [
    "# Evaluate and attempt to simulate delays departure distribution"
   ]
  },
  {
   "cell_type": "code",
   "execution_count": null,
   "metadata": {},
   "outputs": [],
   "source": [
    "# Evaluate distribution of delays. Could the distribution be exponential and defined by an alpha and beta?\n",
    "plt.figure(figsize=(15,15))\n",
    "sns.distplot(trains['DEPARTURE_DELAY'],\n",
    "            bins = 100,\n",
    "            hist=True,\n",
    "            norm_hist=True)\n",
    "plt.xlabel('Seconds Delayed')\n",
    "plt.show()"
   ]
  },
  {
   "cell_type": "code",
   "execution_count": null,
   "metadata": {},
   "outputs": [],
   "source": [
    "delays = trains['DEPARTURE_DELAY'].loc[trains['END_OF_LINE']==1]\n",
    "n_delays = len(delays)\n",
    "\n",
    "alpha_est = np.mean(delays)**2 / np.var(delays)\n",
    "beta_est = np.var(delays) / np.mean(delays)\n",
    "alpha_est, beta_est\n",
    "\n",
    "simulated = gamma(alpha_est, scale=beta_est).rvs(n_delays)\n",
    "\n",
    "plt.figure(figsize=(12,12))\n",
    "_ = plt.hist(simulated, bins=50, alpha=0.9, label='simulated', density=True)\n",
    "_ = plt.hist(delays, bins=50, alpha=0.5, label='observed',density=True)\n",
    "_ = plt.xlabel('Delay')\n",
    "_ = plt.ylabel('Frequency')\n",
    "_ = plt.legend()"
   ]
  },
  {
   "cell_type": "code",
   "execution_count": null,
   "metadata": {},
   "outputs": [],
   "source": [
    "# PyMC3 Gamma uses rate = 1/beta\n",
    "rate_est = 1/beta_est"
   ]
  },
  {
   "cell_type": "code",
   "execution_count": null,
   "metadata": {},
   "outputs": [],
   "source": [
    "with pm.Model() as model:\n",
    "    # Create exponential prior for alpha: alpha_\n",
    "    alpha_ = pm.Exponential(\"alpha\", 1/alpha_est)\n",
    "    \n",
    "    # Create exponential prior for rate (1/beta): rate_ \n",
    "    rate_ = pm.Exponential(\"beta\", 1/rate_est)\n",
    "    \n",
    "    # Create gamma distribution with prior and observed inputs: charge_no_ins\n",
    "    bayesian_delays = pm.Gamma(\"bayesian_delays\", alpha=alpha_, beta=rate_, observed=delays)\n",
    "    print(model.check_test_point())\n",
    "    #trace = pm.sample(1000, cores=2, chains=2)"
   ]
  },
  {
   "cell_type": "code",
   "execution_count": null,
   "metadata": {},
   "outputs": [],
   "source": [
    "alpha_samples = trace['alpha']\n",
    "beta_samples = trace['beta']\n",
    "\n",
    "# Calculate 95% credible interval for alpha and beta\n",
    "alpha_CI = np.percentile(alpha_samples,[2.5,97.5])\n",
    "print(\"alpha 95% credible interval: \"+str(alpha_CI))\n",
    "beta_CI = np.percentile(beta_samples,[2.5,97.5])\n",
    "print(\"beta 95% credible interval: \"+str(beta_CI))\n",
    "\n",
    "_ = pm.plots.plot_posterior(data=trace,var_names=[\"alpha\",\"beta\"])"
   ]
  }
 ],
 "metadata": {
  "kernelspec": {
   "display_name": "Python 3",
   "language": "python",
   "name": "python3"
  },
  "language_info": {
   "codemirror_mode": {
    "name": "ipython",
    "version": 3
   },
   "file_extension": ".py",
   "mimetype": "text/x-python",
   "name": "python",
   "nbconvert_exporter": "python",
   "pygments_lexer": "ipython3",
   "version": "3.7.4"
  }
 },
 "nbformat": 4,
 "nbformat_minor": 4
}
